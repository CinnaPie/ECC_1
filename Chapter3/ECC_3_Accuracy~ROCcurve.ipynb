{
 "cells": [
  {
   "cell_type": "markdown",
   "id": "45ee6648-5ad0-4d01-8f7f-61ed5beec68a",
   "metadata": {},
   "source": [
    "# 정확도 (Accuracy)"
   ]
  },
  {
   "cell_type": "markdown",
   "id": "57476515-cf2c-4015-972d-8bbf0c892de3",
   "metadata": {},
   "source": [
    "### 1. 정확도란?"
   ]
  },
  {
   "cell_type": "markdown",
   "id": "86f7a01e-822f-4c79-bca2-6c9f87e5c7dd",
   "metadata": {},
   "source": [
    "- 정확도란 ? 실제 데이터에서 예측 데이터가 얼마나 같은지를 판단하는 지표\n",
    "- 정확도 (Accuracy) = (예측 결과가 동일한 데이터 건수) / (전체 예측 데이터 건수)"
   ]
  },
  {
   "cell_type": "code",
   "execution_count": 1,
   "id": "f8a322b5-2d52-45f6-876a-ae09ed456f41",
   "metadata": {},
   "outputs": [],
   "source": [
    "import sklearn\n",
    "import numpy as np\n",
    "from sklearn.base import BaseEstimator\n",
    "\n",
    "class MyDummyClassifier(BaseEstimator):\n",
    "    def fit(self, X , y=None):\n",
    "        pass\n",
    "    def predict(self, X):\n",
    "        pred = np.zeros( ( X.shape[0], 1 ))\n",
    "        for i in range (X.shape[0]) :\n",
    "            if X['Sex'].iloc[i] == 1:\n",
    "                pred[i] = 0\n",
    "            else :\n",
    "                pred[i] = 1\n",
    "        return pred"
   ]
  },
  {
   "cell_type": "markdown",
   "id": "e896f668-4f66-4597-a3f0-a13b90c238dd",
   "metadata": {},
   "source": [
    "- MyDummyClassifier를 이용해 생존자 예측 수행"
   ]
  },
  {
   "cell_type": "code",
   "execution_count": 3,
   "id": "3c573b33-5d11-42d2-b298-c07f52a9b605",
   "metadata": {},
   "outputs": [
    {
     "name": "stdout",
     "output_type": "stream",
     "text": [
      "Dummy Classifier의 정확도는: 0.7877\n"
     ]
    }
   ],
   "source": [
    "import pandas as pd\n",
    "from sklearn.model_selection import train_test_split\n",
    "from sklearn.metrics import accuracy_score\n",
    "\n",
    "titanic_df = pd.read_csv('./titanic_train.csv')\n",
    "y_titanic_df = titanic_df['Survived']\n",
    "X_titanic_df= titanic_df.drop('Survived', axis=1)\n",
    "X_titanic_df = transform_features(X_titanic_df)\n",
    "X_train, X_test, y_train, y_test=train_test_split(X_titanic_df, y_titanic_df, \\\n",
    "                                                  test_size=0.2, random_state=0)\n",
    "\n",
    "myclf = MyDummyClassifier()\n",
    "myclf.fit(X_train ,y_train)\n",
    "\n",
    "mypredictions = myclf.predict(X_test)\n",
    "print('Dummy Classifier의 정확도는: {0:.4f}'.format(accuracy_score(y_test , mypredictions)))"
   ]
  },
  {
   "cell_type": "markdown",
   "id": "624befaa-dcd7-44f9-ba83-25295e6b82e1",
   "metadata": {},
   "source": [
    "- MNIST 데이터셋 이용\n",
    "- 불균형 데이터셋과 Dummy Classifier 생성"
   ]
  },
  {
   "cell_type": "code",
   "execution_count": 5,
   "id": "a1d806e2-f25c-40c0-b342-4c360b6d8d2b",
   "metadata": {},
   "outputs": [],
   "source": [
    "from sklearn.datasets import load_digits\n",
    "from sklearn.model_selection import train_test_split\n",
    "from sklearn.base import BaseEstimator\n",
    "from sklearn.metrics import accuracy_score\n",
    "import numpy as np\n",
    "import pandas as pd\n",
    "\n",
    "class MyFakeClassifier(BaseEstimator):\n",
    "    def fit(self,X,y):\n",
    "        pass\n",
    "    def predict(self,X):\n",
    "        return np.zeros( (len(X), 1) , dtype=bool)\n",
    "\n",
    "digits = load_digits()\n",
    "\n",
    "y = (digits.target == 7).astype(int)\n",
    "X_train, X_test, y_train, y_test = train_test_split( digits.data, y, random_state=11)"
   ]
  },
  {
   "cell_type": "markdown",
   "id": "4a55e3f8-5161-49ed-baa4-c5c7337f2f0a",
   "metadata": {},
   "source": [
    "- y_test의 데이터 분포도 확인, MyFakeClassifier 이용한 예측과 평가 수행"
   ]
  },
  {
   "cell_type": "code",
   "execution_count": 6,
   "id": "38c81076-3196-4a04-a1e2-b63d2739683c",
   "metadata": {},
   "outputs": [
    {
     "name": "stdout",
     "output_type": "stream",
     "text": [
      "레이블 테스트 세트 크기 : (450,)\n",
      "테스트 세트 레이블 0 과 1의 분포도\n",
      "0    405\n",
      "1     45\n",
      "Name: count, dtype: int64\n",
      "모든 예측을 0으로 하여도 정확도는:0.900\n"
     ]
    }
   ],
   "source": [
    "# 불균형한 레이블 데이터 분포도 확인. \n",
    "print('레이블 테스트 세트 크기 :', y_test.shape)\n",
    "print('테스트 세트 레이블 0 과 1의 분포도')\n",
    "print(pd.Series(y_test).value_counts())\n",
    "\n",
    "# Dummy Classifier로 학습/예측/정확도 평가\n",
    "fakeclf = MyFakeClassifier()\n",
    "fakeclf.fit(X_train , y_train)\n",
    "fakepred = fakeclf.predict(X_test)\n",
    "print('모든 예측을 0으로 하여도 정확도는:{:.3f}'.format(accuracy_score(y_test , fakepred)))"
   ]
  },
  {
   "cell_type": "markdown",
   "id": "d312c3c0-eefc-407e-aefe-7ed5e0665b69",
   "metadata": {},
   "source": [
    "# 오차 행렬"
   ]
  },
  {
   "cell_type": "markdown",
   "id": "e895c6a6-7f14-4b50-af6f-5fb727c16cc1",
   "metadata": {},
   "source": [
    "### 1. 오차 행렬"
   ]
  },
  {
   "cell_type": "markdown",
   "id": "daabc6c7-ae8f-47c5-8ba7-05c090059294",
   "metadata": {},
   "source": [
    "- 오차행렬(=confusion matrix=혼동행렬) : 학습된 분류 모델이 예측을 수행하며 얼마나 confused 하고 있는지를 함께 보여주는 지표\n",
    "- 이진 분류의 예측 오류가 얼마인지와 더불어 어떤 유형의 예측 오류가 발생하고 있는지를 함께 나타내는 지표"
   ]
  },
  {
   "cell_type": "markdown",
   "id": "0789b45c-d0f7-4e60-8236-a36a4d23763d",
   "metadata": {},
   "source": [
    "- True/False ; 예측값과 실제값이 같은가/틀린가\n",
    "- Negative/Positive ; 예측 결과 값이 부정(0)/긍정(1)"
   ]
  },
  {
   "cell_type": "markdown",
   "id": "de4160f5-f4de-49ae-b822-8a10a21c7b62",
   "metadata": {},
   "source": [
    "- TN(True Negative) : 0, 0\n",
    "- FP(False Positive) : 0, 1\n",
    "- FN(False Negative) : 1, 0\n",
    "- TP(True Positive) : 1, 1"
   ]
  },
  {
   "cell_type": "code",
   "execution_count": 7,
   "id": "f160cb64-4c5f-46f9-a7c3-b7e6bcd6e976",
   "metadata": {},
   "outputs": [
    {
     "data": {
      "text/plain": [
       "array([[405,   0],\n",
       "       [ 45,   0]], dtype=int64)"
      ]
     },
     "execution_count": 7,
     "metadata": {},
     "output_type": "execute_result"
    }
   ],
   "source": [
    "from sklearn.metrics import confusion_matrix\n",
    "\n",
    "confusion_matrix(y_test , fakepred)"
   ]
  },
  {
   "cell_type": "markdown",
   "id": "2d4f1a0e-1d54-4915-85fb-ff7db0e8ccc4",
   "metadata": {},
   "source": [
    "- TP, TN, FP, FN => Classifier 성능 측정의 주요 지표인 정확도, 정밀도, 재현율 값을 알 수 있음"
   ]
  },
  {
   "cell_type": "markdown",
   "id": "9dbd3c67-a6c0-4ae3-b603-40c4be1ddbdf",
   "metadata": {},
   "source": [
    "- 정확도 = 예측 결과와 실제 값이 동일한 건수/전체 데이터 수 = (TN + TP)/(TN + FP + FN + TP)"
   ]
  },
  {
   "cell_type": "markdown",
   "id": "aacc6f91-9079-46a3-9ccc-20c16588efa4",
   "metadata": {},
   "source": [
    "- 불균형한 데이터셋에선 정확도만으로는 모델 신뢰도가 떨어질 수 있음."
   ]
  },
  {
   "cell_type": "markdown",
   "id": "425f359e-99e9-415f-bd37-5f99eac95af5",
   "metadata": {},
   "source": [
    "# 정밀도 재현율"
   ]
  },
  {
   "cell_type": "markdown",
   "id": "21ed5f03-6feb-46c0-9819-76e458f37bc3",
   "metadata": {},
   "source": [
    "- Positive 데이터 셋의 예측 성능에 더 초점을 맞춘 평가 지표"
   ]
  },
  {
   "cell_type": "markdown",
   "id": "936c2cc8-56a1-40da-a0a1-e13dcbfdd88c",
   "metadata": {},
   "source": [
    "- 정밀도 = TP / (FP + TP)\n",
    "- Positive 예측 성능을 더욱 정밀히 측정하기 위한 평가 지표로, 양성 예측도로도 불림."
   ]
  },
  {
   "cell_type": "markdown",
   "id": "4258f7e1-d12d-4f97-afca-983ecdd4e777",
   "metadata": {},
   "source": [
    "- 재현율 = TP / (FN + TP)\n",
    "- 민감도(Sensitivity) 또는 TPR(True Positive Rate)라고도 불림."
   ]
  },
  {
   "cell_type": "markdown",
   "id": "b9afaee7-2612-4ad5-861e-ffdc3daf3fbb",
   "metadata": {},
   "source": [
    "- 재현율이 중요 지표인 경우 : 실제 Positive 데이터를 Negative로 잘못 판단하게 되면 업무상 큰 영향이 발생하는 경우 (ex. 암 모델 판단, 금융 사기 적발 모델)\n",
    "- 정밀도가 중요 지표인 경우 : 위 반대 경우 (스팸 메일 분류 모델)"
   ]
  },
  {
   "cell_type": "code",
   "execution_count": 8,
   "id": "6f4ec179-834c-49cc-9990-efdb01ef16f6",
   "metadata": {},
   "outputs": [],
   "source": [
    "from sklearn.metrics import accuracy_score, precision_score , recall_score , confusion_matrix\n",
    "\n",
    "def get_clf_eval(y_test , pred):\n",
    "    confusion = confusion_matrix( y_test, pred)\n",
    "    accuracy = accuracy_score(y_test , pred)\n",
    "    precision = precision_score(y_test , pred)\n",
    "    recall = recall_score(y_test , pred)\n",
    "    print('오차 행렬')\n",
    "    print(confusion)\n",
    "    print('정확도: {0:.4f}, 정밀도: {1:.4f}, 재현율: {2:.4f}'.format(accuracy , precision ,recall))"
   ]
  },
  {
   "cell_type": "code",
   "execution_count": 11,
   "id": "534c2966-e948-49bf-bb8b-39b24474a387",
   "metadata": {},
   "outputs": [
    {
     "name": "stdout",
     "output_type": "stream",
     "text": [
      "오차 행렬\n",
      "[[104  14]\n",
      " [ 13  48]]\n",
      "정확도: 0.8492, 정밀도: 0.7742, 재현율: 0.7869\n"
     ]
    },
    {
     "name": "stderr",
     "output_type": "stream",
     "text": [
      "C:\\Users\\jes45\\AppData\\Local\\Programs\\Python\\Python311\\Lib\\site-packages\\sklearn\\linear_model\\_logistic.py:469: ConvergenceWarning: lbfgs failed to converge (status=1):\n",
      "STOP: TOTAL NO. of ITERATIONS REACHED LIMIT.\n",
      "\n",
      "Increase the number of iterations (max_iter) or scale the data as shown in:\n",
      "    https://scikit-learn.org/stable/modules/preprocessing.html\n",
      "Please also refer to the documentation for alternative solver options:\n",
      "    https://scikit-learn.org/stable/modules/linear_model.html#logistic-regression\n",
      "  n_iter_i = _check_optimize_result(\n"
     ]
    }
   ],
   "source": [
    "import pandas as pd\n",
    "from sklearn.model_selection import train_test_split \n",
    "from sklearn.linear_model import LogisticRegression\n",
    "\n",
    "titanic_df = pd.read_csv('./titanic_train.csv')\n",
    "y_titanic_df = titanic_df['Survived']\n",
    "X_titanic_df= titanic_df.drop('Survived', axis=1)\n",
    "X_titanic_df = transform_features(X_titanic_df)\n",
    "\n",
    "X_train, X_test, y_train, y_test = train_test_split(X_titanic_df, y_titanic_df, \\\n",
    "                                                    test_size=0.20, random_state=11)\n",
    "\n",
    "lr_clf = LogisticRegression()\n",
    "\n",
    "lr_clf.fit(X_train, y_train)\n",
    "pred = lr_clf.predict(X_test)\n",
    "get_clf_eval(y_test, pred)"
   ]
  },
  {
   "cell_type": "markdown",
   "id": "33cadad5-1ff0-476f-b5b6-91c7762f569a",
   "metadata": {},
   "source": [
    "- 정밀도보다 재현율이 낮게 나옴!"
   ]
  },
  {
   "cell_type": "markdown",
   "id": "356a5ef5-3749-4a8d-a754-5563a2e80e8e",
   "metadata": {},
   "source": [
    "### 1. 정밀도/재현율 트레이드오프"
   ]
  },
  {
   "cell_type": "markdown",
   "id": "561c1627-657d-495a-bf7a-0a1b49002f34",
   "metadata": {},
   "source": [
    "- 정밀도/재현율은 상호 보완적 평가 지표임 => 어느 한 쪽을 강제로 올리면 다른 수치는 떨어짐"
   ]
  },
  {
   "cell_type": "markdown",
   "id": "db6349c6-47e7-4144-98ac-ee2d44562c0f",
   "metadata": {},
   "source": [
    "- predict_proba() : 개별 데이터별로 예측 확률을 반환하는 메서드\n",
    "- 예측 결과 클래스값(predict() 메서드와 유사)이 아닌 예측 확률 결과"
   ]
  },
  {
   "cell_type": "markdown",
   "id": "254db2fc-d04d-4ed7-be31-54c3a8287815",
   "metadata": {},
   "source": [
    "- predict_proba()와 predict() 메서드 비교"
   ]
  },
  {
   "cell_type": "code",
   "execution_count": 12,
   "id": "f03a7366-80f3-4f65-8cdf-38d1db29e733",
   "metadata": {},
   "outputs": [
    {
     "name": "stdout",
     "output_type": "stream",
     "text": [
      "pred_proba()결과 Shape : (179, 2)\n",
      "pred_proba array에서 앞 3개만 샘플로 추출 \n",
      ": [[0.46173044 0.53826956]\n",
      " [0.8785967  0.1214033 ]\n",
      " [0.87721446 0.12278554]]\n",
      "두개의 class 중에서 더 큰 확률을 클래스 값으로 예측 \n",
      " [[0.46173044 0.53826956 1.        ]\n",
      " [0.8785967  0.1214033  0.        ]\n",
      " [0.87721446 0.12278554 0.        ]]\n"
     ]
    }
   ],
   "source": [
    "pred_proba = lr_clf.predict_proba(X_test)\n",
    "pred  = lr_clf.predict(X_test)\n",
    "print('pred_proba()결과 Shape : {0}'.format(pred_proba.shape))\n",
    "print('pred_proba array에서 앞 3개만 샘플로 추출 \\n:', pred_proba[:3])\n",
    "\n",
    "pred_proba_result = np.concatenate([pred_proba , pred.reshape(-1,1)],axis=1)\n",
    "print('두개의 class 중에서 더 큰 확률을 클래스 값으로 예측 \\n',pred_proba_result[:3])"
   ]
  },
  {
   "cell_type": "markdown",
   "id": "7d22e3c0-e670-4fad-91c9-6eaf122d161c",
   "metadata": {},
   "source": [
    "- predict()는 predcit_proba()에 기반해 생성된 API임.\n",
    "- predict_proba() 호출 결과로 반환된 배열에서 분류 경정 임계값보다 큰 값이 들어있는 칼렁ㅁ의 위치를 받아 최종적으로 예측 클래스를 결정하는 API."
   ]
  },
  {
   "cell_type": "markdown",
   "id": "e9bbb21d-bc08-42fc-8a49-66748b1d12c9",
   "metadata": {},
   "source": [
    "- 사이킷런의 정밀도/재현율 트레이드오프 방식의 이해 (Binarizer)"
   ]
  },
  {
   "cell_type": "code",
   "execution_count": 13,
   "id": "0385a603-af3f-4a48-b0ca-3c75f955540e",
   "metadata": {},
   "outputs": [
    {
     "name": "stdout",
     "output_type": "stream",
     "text": [
      "[[0. 0. 1.]\n",
      " [1. 0. 0.]\n",
      " [0. 0. 1.]]\n"
     ]
    }
   ],
   "source": [
    "from sklearn.preprocessing import Binarizer\n",
    "\n",
    "X = [[ 1, -1,  2],\n",
    "     [ 2,  0,  0],\n",
    "     [ 0,  1.1, 1.2]]\n",
    "binarizer = Binarizer(threshold=1.1)                     \n",
    "print(binarizer.fit_transform(X))"
   ]
  },
  {
   "cell_type": "code",
   "execution_count": 14,
   "id": "f3994668-ebe4-4f4d-9a73-b87c439395de",
   "metadata": {},
   "outputs": [
    {
     "name": "stdout",
     "output_type": "stream",
     "text": [
      "오차 행렬\n",
      "[[104  14]\n",
      " [ 13  48]]\n",
      "정확도: 0.8492, 정밀도: 0.7742, 재현율: 0.7869\n"
     ]
    }
   ],
   "source": [
    "from sklearn.preprocessing import Binarizer\n",
    "\n",
    "custom_threshold = 0.5\n",
    "\n",
    "pred_proba_1 = pred_proba[:,1].reshape(-1,1)\n",
    "\n",
    "binarizer = Binarizer(threshold=custom_threshold).fit(pred_proba_1) \n",
    "custom_predict = binarizer.transform(pred_proba_1)\n",
    "\n",
    "get_clf_eval(y_test, custom_predict)"
   ]
  },
  {
   "cell_type": "markdown",
   "id": "b2f307e7-f71d-423f-a1e6-dcbebe635e8e",
   "metadata": {},
   "source": [
    "- 분류 결정 임곗값을 낮췄을 때(0.5 -> 0.4) 평가 지표 변화 보기"
   ]
  },
  {
   "cell_type": "code",
   "execution_count": 15,
   "id": "18fab668-c489-4db2-b483-033827872117",
   "metadata": {},
   "outputs": [
    {
     "name": "stdout",
     "output_type": "stream",
     "text": [
      "오차 행렬\n",
      "[[99 19]\n",
      " [10 51]]\n",
      "정확도: 0.8380, 정밀도: 0.7286, 재현율: 0.8361\n"
     ]
    }
   ],
   "source": [
    "custom_threshold = 0.4\n",
    "pred_proba_1 = pred_proba[:,1].reshape(-1,1)\n",
    "binarizer = Binarizer(threshold=custom_threshold).fit(pred_proba_1) \n",
    "custom_predict = binarizer.transform(pred_proba_1)\n",
    "\n",
    "get_clf_eval(y_test , custom_predict)"
   ]
  },
  {
   "cell_type": "markdown",
   "id": "0b4e777a-d4c3-41d2-ad61-3bf67412719c",
   "metadata": {},
   "source": [
    "- 재현율 상승, 정밀도 하락\n",
    "- 이유 ? 분류 결정 임곗값이 낮아질수록 Positive로 예측할 확률 상승 => 재현율 증가"
   ]
  },
  {
   "cell_type": "markdown",
   "id": "8bc80483-df6b-4bad-b8d3-f28828ba90a0",
   "metadata": {},
   "source": [
    "- 임곗값을 0.4 -> 0.6까지 0.05씩 증가시키며 평가 지표 조사"
   ]
  },
  {
   "cell_type": "code",
   "execution_count": 16,
   "id": "68b1bb40-a401-48e0-af61-ba4000059e19",
   "metadata": {},
   "outputs": [
    {
     "name": "stdout",
     "output_type": "stream",
     "text": [
      "임곗값: 0.4\n",
      "오차 행렬\n",
      "[[99 19]\n",
      " [10 51]]\n",
      "정확도: 0.8380, 정밀도: 0.7286, 재현율: 0.8361\n",
      "임곗값: 0.45\n",
      "오차 행렬\n",
      "[[103  15]\n",
      " [ 12  49]]\n",
      "정확도: 0.8492, 정밀도: 0.7656, 재현율: 0.8033\n",
      "임곗값: 0.5\n",
      "오차 행렬\n",
      "[[104  14]\n",
      " [ 13  48]]\n",
      "정확도: 0.8492, 정밀도: 0.7742, 재현율: 0.7869\n",
      "임곗값: 0.55\n",
      "오차 행렬\n",
      "[[109   9]\n",
      " [ 15  46]]\n",
      "정확도: 0.8659, 정밀도: 0.8364, 재현율: 0.7541\n",
      "임곗값: 0.6\n",
      "오차 행렬\n",
      "[[112   6]\n",
      " [ 16  45]]\n",
      "정확도: 0.8771, 정밀도: 0.8824, 재현율: 0.7377\n"
     ]
    }
   ],
   "source": [
    "thresholds = [0.4, 0.45, 0.50, 0.55, 0.60]\n",
    "\n",
    "def get_eval_by_threshold(y_test , pred_proba_c1, thresholds):\n",
    "    for custom_threshold in thresholds:\n",
    "        binarizer = Binarizer(threshold=custom_threshold).fit(pred_proba_c1) \n",
    "        custom_predict = binarizer.transform(pred_proba_c1)\n",
    "        print('임곗값:',custom_threshold)\n",
    "        get_clf_eval(y_test , custom_predict)\n",
    "\n",
    "get_eval_by_threshold(y_test ,pred_proba[:,1].reshape(-1,1), thresholds )"
   ]
  },
  {
   "cell_type": "markdown",
   "id": "ba568ba0-9a95-436e-bb62-14e644bda1a3",
   "metadata": {},
   "source": [
    "- 샘플로 10건만 추출. 단, 임곗값을 15단계로 추출, 정밀도와 재현율 값을 같이 살펴봄"
   ]
  },
  {
   "cell_type": "code",
   "execution_count": 17,
   "id": "8cfbb555-ce51-411e-b5ef-15bef7e65a54",
   "metadata": {},
   "outputs": [
    {
     "name": "stdout",
     "output_type": "stream",
     "text": [
      "반환된 분류 결정 임곗값 배열의 Shape: (165,)\n",
      "반환된 precisions 배열의 Shape: (166,)\n",
      "반환된 recalls 배열의 Shape: (166,)\n",
      "thresholds 5 sample: [0.01165687 0.05303067 0.06226132 0.06350856 0.06862563]\n",
      "precisions 5 sample: [0.34078212 0.34269663 0.34463277 0.34659091 0.34857143]\n",
      "recalls 5 sample: [1. 1. 1. 1. 1.]\n",
      "샘플 추출을 위한 임계값 배열의 index 10개: [  0  15  30  45  60  75  90 105 120 135 150]\n",
      "샘플용 10개의 임곗값:  [0.01 0.09 0.11 0.13 0.15 0.23 0.35 0.5  0.63 0.75 0.89]\n",
      "샘플 임계값별 정밀도:  [0.341 0.372 0.415 0.448 0.505 0.585 0.701 0.774 0.915 0.935 0.938]\n",
      "샘플 임계값별 재현율:  [1.    1.    0.967 0.918 0.902 0.902 0.885 0.787 0.705 0.475 0.246]\n"
     ]
    }
   ],
   "source": [
    "from sklearn.metrics import precision_recall_curve\n",
    "\n",
    "pred_proba_class1 = lr_clf.predict_proba(X_test)[:, 1] \n",
    "\n",
    "precisions, recalls, thresholds = precision_recall_curve(y_test, pred_proba_class1 )\n",
    "print('반환된 분류 결정 임곗값 배열의 Shape:', thresholds.shape)\n",
    "print('반환된 precisions 배열의 Shape:', precisions.shape)\n",
    "print('반환된 recalls 배열의 Shape:', recalls.shape)\n",
    "\n",
    "print(\"thresholds 5 sample:\", thresholds[:5])\n",
    "print(\"precisions 5 sample:\", precisions[:5])\n",
    "print(\"recalls 5 sample:\", recalls[:5])\n",
    " \n",
    "thr_index = np.arange(0, thresholds.shape[0], 15)\n",
    "print('샘플 추출을 위한 임계값 배열의 index 10개:', thr_index)\n",
    "print('샘플용 10개의 임곗값: ', np.round(thresholds[thr_index], 2))\n",
    "\n",
    "print('샘플 임계값별 정밀도: ', np.round(precisions[thr_index], 3))\n",
    "print('샘플 임계값별 재현율: ', np.round(recalls[thr_index], 3))"
   ]
  },
  {
   "cell_type": "markdown",
   "id": "8cbc6f48-ab56-42e3-8f4f-fcbfaba4d021",
   "metadata": {},
   "source": [
    "- precision_recall_curve()를 이용해 정밀도 재현율 곡선을 시각화"
   ]
  },
  {
   "cell_type": "code",
   "execution_count": 18,
   "id": "4eaa1106-819a-4d49-88a7-4c6555f01e6a",
   "metadata": {},
   "outputs": [
    {
     "data": {
      "image/png": "[encoded data removed]",
      "text/plain": [
       "<Figure size 800x600 with 1 Axes>"
      ]
     },
     "metadata": {},
     "output_type": "display_data"
    }
   ],
   "source": [
    "import matplotlib.pyplot as plt\n",
    "import matplotlib.ticker as ticker\n",
    "%matplotlib inline\n",
    "\n",
    "def precision_recall_curve_plot(y_test , pred_proba_c1):\n",
    "    # threshold ndarray와 이 threshold에 따른 정밀도, 재현율 ndarray 추출. \n",
    "    precisions, recalls, thresholds = precision_recall_curve( y_test, pred_proba_c1)\n",
    "    \n",
    "    # X축을 threshold값으로, Y축은 정밀도, 재현율 값으로 각각 Plot 수행. 정밀도는 점선으로 표시\n",
    "    plt.figure(figsize=(8,6))\n",
    "    threshold_boundary = thresholds.shape[0]\n",
    "    plt.plot(thresholds, precisions[0:threshold_boundary], linestyle='--', label='precision')\n",
    "    plt.plot(thresholds, recalls[0:threshold_boundary],label='recall')\n",
    "    \n",
    "    # threshold 값 X 축의 Scale을 0.1 단위로 변경\n",
    "    start, end = plt.xlim()\n",
    "    plt.xticks(np.round(np.arange(start, end, 0.1),2))\n",
    "    \n",
    "    # x축, y축 label과 legend, 그리고 grid 설정\n",
    "    plt.xlabel('Threshold value'); plt.ylabel('Precision and Recall value')\n",
    "    plt.legend(); plt.grid()\n",
    "    plt.show()\n",
    "    \n",
    "precision_recall_curve_plot( y_test, lr_clf.predict_proba(X_test)[:, 1] )"
   ]
  },
  {
   "cell_type": "markdown",
   "id": "cdf23415-eaba-4f3d-9772-6eedfb4f505e",
   "metadata": {},
   "source": [
    "### 2. 정밀도와 재현율의 맹점"
   ]
  },
  {
   "cell_type": "markdown",
   "id": "f082b397-bac9-4014-8026-3a0418f72624",
   "metadata": {},
   "source": [
    "#### 1) 정밀도가 100%가 되는 방법"
   ]
  },
  {
   "cell_type": "markdown",
   "id": "fadce932-0f00-49ed-9632-7620312675e3",
   "metadata": {},
   "source": [
    "- 확실한 기준이 되는 경우만 Positive로 예측, 나머지는 모두 Negative로 예측.\n",
    "- 이 경우 정밀도 = 1/(1+0) => 100%"
   ]
  },
  {
   "cell_type": "markdown",
   "id": "a13d7e2f-7c08-41ac-86c7-ce597f683b68",
   "metadata": {},
   "source": [
    "#### 2) 재현율이 100%가 되는 방법"
   ]
  },
  {
   "cell_type": "markdown",
   "id": "21941084-3b88-4ef2-a0b7-08c64cc60c1d",
   "metadata": {},
   "source": [
    "- 모든 경우를 Positive로 예측"
   ]
  },
  {
   "cell_type": "markdown",
   "id": "18aa216e-fe66-4ba0-93bd-7fbd11a7da06",
   "metadata": {},
   "source": [
    "- 단, 둘 중 하나만 강조하는 상황이 되어서는 안 됨."
   ]
  },
  {
   "cell_type": "markdown",
   "id": "7e639e47-19ae-4755-9927-676cdf8729bb",
   "metadata": {},
   "source": [
    "# F1 스코어"
   ]
  },
  {
   "cell_type": "markdown",
   "id": "07092b27-5505-42b3-9d59-61680680f4e9",
   "metadata": {},
   "source": [
    "- F1 스코어 : 정밀도와 재현율을 결합한 지표로, 두 값 중 한 쪽으로 치우치지 않을 때 높은 값을 가짐."
   ]
  },
  {
   "cell_type": "markdown",
   "id": "3cfe7627-5ba5-4e5a-8e79-7a724dc126b0",
   "metadata": {},
   "source": [
    "- F1 = 2/(1/recall + 1/precision) = 2*(precision*recall / (precision + recall))"
   ]
  },
  {
   "cell_type": "markdown",
   "id": "0ab22323-47bc-4fd1-bee3-3bbd8cacc108",
   "metadata": {},
   "source": [
    "- 로지스틱 회귀 기반 타이타닉 생존자 모델의 F1 스코어 구하기"
   ]
  },
  {
   "cell_type": "code",
   "execution_count": 19,
   "id": "f7e6eb68-89fc-4628-8a42-5227ca54b628",
   "metadata": {},
   "outputs": [
    {
     "name": "stdout",
     "output_type": "stream",
     "text": [
      "F1 스코어: 0.7805\n"
     ]
    }
   ],
   "source": [
    "from sklearn.metrics import f1_score \n",
    "f1 = f1_score(y_test , pred)\n",
    "print('F1 스코어: {0:.4f}'.format(f1))"
   ]
  },
  {
   "cell_type": "code",
   "execution_count": 20,
   "id": "3e69e846-d5db-47fc-958e-e62e36cb719a",
   "metadata": {},
   "outputs": [
    {
     "name": "stdout",
     "output_type": "stream",
     "text": [
      "임곗값: 0.4\n",
      "오차 행렬\n",
      "[[99 19]\n",
      " [10 51]]\n",
      "정확도: 0.8380, 정밀도: 0.7286, 재현율: 0.8361, F1:0.7786\n",
      "임곗값: 0.45\n",
      "오차 행렬\n",
      "[[103  15]\n",
      " [ 12  49]]\n",
      "정확도: 0.8492, 정밀도: 0.7656, 재현율: 0.8033, F1:0.7840\n",
      "임곗값: 0.5\n",
      "오차 행렬\n",
      "[[104  14]\n",
      " [ 13  48]]\n",
      "정확도: 0.8492, 정밀도: 0.7742, 재현율: 0.7869, F1:0.7805\n",
      "임곗값: 0.55\n",
      "오차 행렬\n",
      "[[109   9]\n",
      " [ 15  46]]\n",
      "정확도: 0.8659, 정밀도: 0.8364, 재현율: 0.7541, F1:0.7931\n",
      "임곗값: 0.6\n",
      "오차 행렬\n",
      "[[112   6]\n",
      " [ 16  45]]\n",
      "정확도: 0.8771, 정밀도: 0.8824, 재현율: 0.7377, F1:0.8036\n"
     ]
    }
   ],
   "source": [
    "def get_clf_eval(y_test, pred):\n",
    "    confusion = confusion_matrix( y_test, pred)\n",
    "    accuracy = accuracy_score(y_test , pred)\n",
    "    precision = precision_score(y_test , pred)\n",
    "    recall = recall_score(y_test , pred)\n",
    "    \n",
    "    # F1 스코어 추가\n",
    "    f1 = f1_score(y_test,pred)\n",
    "    print('오차 행렬')\n",
    "    print(confusion)\n",
    "    \n",
    "    # f1 score print 추가\n",
    "    print('정확도: {0:.4f}, 정밀도: {1:.4f}, 재현율: {2:.4f}, F1:{3:.4f}'.format(accuracy, precision, recall, f1))\n",
    "\n",
    "thresholds = [0.4 , 0.45 , 0.50 , 0.55 , 0.60]\n",
    "pred_proba = lr_clf.predict_proba(X_test)\n",
    "get_eval_by_threshold(y_test, pred_proba[:,1].reshape(-1,1), thresholds)"
   ]
  },
  {
   "cell_type": "markdown",
   "id": "ae3bc34b-167d-4063-b5af-32a826897ffe",
   "metadata": {},
   "source": [
    "# ROC 곡선과 AUC"
   ]
  },
  {
   "cell_type": "markdown",
   "id": "66a1a766-4e78-43ce-a005-6a09280a123f",
   "metadata": {},
   "source": [
    "- ROC 곡선(Receiver Operation Characteristic Curve) : 수신자 판단 곡선\n",
    "- FPR(False Positive Rate)이 변할 때 TPR(True Negative Rate)이 어떻게 변하는지를 나타낸 곡선\n",
    "- TPR = 재현율 = 민감도\n",
    "- TNR = 특이성"
   ]
  },
  {
   "cell_type": "markdown",
   "id": "ad24f430-ba19-4b91-821d-9feed42504ba",
   "metadata": {},
   "source": [
    "- FPR = FP / (FP + TN) = 1 - TNR = 1 - 특이성"
   ]
  },
  {
   "cell_type": "markdown",
   "id": "63f6f140-592a-4ef3-badc-0e491de79d14",
   "metadata": {},
   "source": [
    "- roc_curve() API : ROC 곡선을 구하는 API"
   ]
  },
  {
   "cell_type": "markdown",
   "id": "96d4d1b2-e4e3-4f14-b58b-445481848d59",
   "metadata": {},
   "source": [
    "- roc_curve() API를 이용해 타이타닉 생존자 예측 모델의 FPR, TPR, 임곗값 구하기"
   ]
  },
  {
   "cell_type": "code",
   "execution_count": 21,
   "id": "88957cca-f5bd-441b-9715-f3b3d3df6225",
   "metadata": {},
   "outputs": [
    {
     "name": "stdout",
     "output_type": "stream",
     "text": [
      "샘플 추출을 위한 임곗값 배열의 index: [ 1  6 11 16 21 26 31 36 41 46 51]\n",
      "샘플 index로 추출한 임곗값:  [0.97 0.65 0.63 0.56 0.45 0.38 0.31 0.13 0.12 0.11 0.1 ]\n",
      "샘플 임곗값별 FPR:  [0.    0.017 0.034 0.076 0.127 0.186 0.237 0.576 0.619 0.754 0.814]\n",
      "샘플 임곗값별 TPR:  [0.033 0.639 0.705 0.754 0.803 0.852 0.902 0.902 0.951 0.967 1.   ]\n"
     ]
    }
   ],
   "source": [
    "from sklearn.metrics import roc_curve\n",
    "\n",
    "pred_proba_class1 = lr_clf.predict_proba(X_test)[:, 1] \n",
    "\n",
    "fprs , tprs , thresholds = roc_curve(y_test, pred_proba_class1)\n",
    "thr_index = np.arange(1, thresholds.shape[0], 5)\n",
    "print('샘플 추출을 위한 임곗값 배열의 index:', thr_index)\n",
    "print('샘플 index로 추출한 임곗값: ', np.round(thresholds[thr_index], 2))\n",
    "\n",
    "print('샘플 임곗값별 FPR: ', np.round(fprs[thr_index], 3))\n",
    "print('샘플 임곗값별 TPR: ', np.round(tprs[thr_index], 3))"
   ]
  },
  {
   "cell_type": "code",
   "execution_count": 23,
   "id": "b153f34d-02fd-403f-80e5-e344c58ff7df",
   "metadata": {},
   "outputs": [
    {
     "data": {
      "image/png": "[encoded data removed]",
      "text/plain": [
       "<Figure size 640x480 with 1 Axes>"
      ]
     },
     "metadata": {},
     "output_type": "display_data"
    }
   ],
   "source": [
    "def roc_curve_plot(y_test , pred_proba_c1):\n",
    "    fprs , tprs , thresholds = roc_curve(y_test ,pred_proba_c1)\n",
    "\n",
    "    plt.plot(fprs , tprs, label='ROC')\n",
    "    plt.plot([0, 1], [0, 1], 'k--', label='Random')\n",
    "    \n",
    "    start, end = plt.xlim()\n",
    "    plt.xticks(np.round(np.arange(start, end, 0.1),2))\n",
    "    plt.xlim(0,1); plt.ylim(0,1)\n",
    "    plt.xlabel('FPR( 1 - Sensitivity )'); plt.ylabel('TPR( Recall )')\n",
    "    plt.legend()\n",
    "    plt.show()\n",
    "    \n",
    "roc_curve_plot(y_test, lr_clf.predict_proba(X_test)[:, 1] )"
   ]
  },
  {
   "cell_type": "code",
   "execution_count": 24,
   "id": "45a69d1e-4345-4f65-91a5-856a18259637",
   "metadata": {},
   "outputs": [
    {
     "name": "stdout",
     "output_type": "stream",
     "text": [
      "ROC AUC 값: 0.9025\n"
     ]
    }
   ],
   "source": [
    "from sklearn.metrics import roc_auc_score\n",
    "\n",
    "pred_proba = lr_clf.predict_proba(X_test)[:, 1]\n",
    "roc_score = roc_auc_score(y_test, pred_proba)\n",
    "print('ROC AUC 값: {0:.4f}'.format(roc_score))"
   ]
  },
  {
   "cell_type": "markdown",
   "id": "f734f62a-a95a-41c7-95da-a7bf128379b2",
   "metadata": {},
   "source": [
    "- get_clf_eval() : 정확도, 재현율, F1 스코어, ROC AUC 값까지 출력 가능하도록 수정한 결과"
   ]
  },
  {
   "cell_type": "code",
   "execution_count": 25,
   "id": "481a5954-f242-4d02-adc5-54baae946ef6",
   "metadata": {},
   "outputs": [],
   "source": [
    "def get_clf_eval(y_test, pred=None, pred_proba=None):\n",
    "    confusion = confusion_matrix( y_test, pred)\n",
    "    accuracy = accuracy_score(y_test , pred)\n",
    "    precision = precision_score(y_test , pred)\n",
    "    recall = recall_score(y_test , pred)\n",
    "    f1 = f1_score(y_test,pred)\n",
    "    roc_auc = roc_auc_score(y_test, pred_proba)\n",
    "    print('오차 행렬')\n",
    "    print(confusion)\n",
    "    print('정확도: {0:.4f}, 정밀도: {1:.4f}, 재현율: {2:.4f},\\\n",
    "          F1: {3:.4f}, AUC:{4:.4f}'.format(accuracy, precision, recall, f1, roc_auc))"
   ]
  }
 ],
 "metadata": {
  "kernelspec": {
   "display_name": "Python 3 (ipykernel)",
   "language": "python",
   "name": "python3"
  },
  "language_info": {
   "codemirror_mode": {
    "name": "ipython",
    "version": 3
   },
   "file_extension": ".py",
   "mimetype": "text/x-python",
   "name": "python",
   "nbconvert_exporter": "python",
   "pygments_lexer": "ipython3",
   "version": "3.11.4"
  }
 },
 "nbformat": 4,
 "nbformat_minor": 5
}
