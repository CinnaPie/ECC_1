{
 "cells": [
  {
   "cell_type": "markdown",
   "id": "85869ff2-ad1e-4ccb-8996-948d55bbba84",
   "metadata": {},
   "source": [
    "# Numpy 학습"
   ]
  },
  {
   "cell_type": "markdown",
   "id": "ee4af4b1-4b7d-4449-8814-87348a602b9a",
   "metadata": {},
   "source": [
    "### 1. Numpy ndarray 개요"
   ]
  },
  {
   "cell_type": "code",
   "execution_count": 1,
   "id": "d5d816af-0ade-4c83-870a-cdc74e6eec56",
   "metadata": {},
   "outputs": [],
   "source": [
    "import numpy as np"
   ]
  },
  {
   "cell_type": "markdown",
   "id": "92579b47-7c99-48f0-ba1f-41ca126c744b",
   "metadata": {},
   "source": [
    "#### 1) ndarray 배열의 차원"
   ]
  },
  {
   "cell_type": "code",
   "execution_count": null,
   "id": "099b2886-f7d9-4460-a05c-f30603db47f5",
   "metadata": {},
   "outputs": [],
   "source": []
  },
  {
   "cell_type": "code",
   "execution_count": 2,
   "id": "41e26750-5f36-42ab-a26c-066a6d6310a6",
   "metadata": {},
   "outputs": [
    {
     "name": "stdout",
     "output_type": "stream",
     "text": [
      "array1 type: <class 'numpy.ndarray'>\n",
      "array1 array 형태: (3,)\n",
      "array2 type: <class 'numpy.ndarray'>\n",
      "array2 array 형태: (2, 3)\n",
      "array3 type: <class 'numpy.ndarray'>\n",
      "array3 array 형태: (1, 3)\n"
     ]
    }
   ],
   "source": [
    "array1 = np.array([1,2,3])\n",
    "print('array1 type:', type(array1))\n",
    "print('array1 array 형태:', array1.shape)\n",
    "\n",
    "array2 = np.array([[1,2,3],\n",
    "                  [2,3,4]])\n",
    "print('array2 type:', type(array2))\n",
    "print('array2 array 형태:', array2.shape)\n",
    "\n",
    "array3 = np.array([[1,2,3]])\n",
    "print('array3 type:', type(array3))\n",
    "print('array3 array 형태:', array3.shape)"
   ]
  },
  {
   "cell_type": "code",
   "execution_count": 4,
   "id": "ffcacad0-d55d-4853-a93b-1d80e013b5e5",
   "metadata": {},
   "outputs": [
    {
     "name": "stdout",
     "output_type": "stream",
     "text": [
      "array1 : 1차원, array2 : 2차원, array3 :  2차원\n"
     ]
    }
   ],
   "source": [
    "# ndarry 차원 확인\n",
    "print('array1 : {:0}차원, array2 : {:1}차원, array3 : {:2}차원'.format(array1.ndim,\n",
    "                                                             array2.ndim, array3.ndim))"
   ]
  },
  {
   "cell_type": "markdown",
   "id": "578285d3-cdf1-4427-bd7e-0130900fe1b8",
   "metadata": {},
   "source": [
    "### 2. ndarray의 데이터 타입"
   ]
  },
  {
   "cell_type": "markdown",
   "id": "071f57ac-dc44-49a3-ba41-c4d204478ed8",
   "metadata": {},
   "source": [
    "#### 1) 데이터 타입"
   ]
  },
  {
   "cell_type": "markdown",
   "id": "a1c1a558-49d1-461c-8450-53feedc4e430",
   "metadata": {},
   "source": [
    "- 모든 타입 가능 (int, bool, float, char 등등...)\n",
    "- 하나의 ndarray 객체에는 하나의 타입끼리만 공존 가능\n",
    "- 다른 데이터 유형이 섞여있을 경우 -> 더 큰 데이터 타입으로 형 변환 일괄 적용"
   ]
  },
  {
   "cell_type": "code",
   "execution_count": 6,
   "id": "6507ba86-6c25-4322-b7c4-a70c5d139127",
   "metadata": {},
   "outputs": [
    {
     "name": "stdout",
     "output_type": "stream",
     "text": [
      "<class 'list'>\n",
      "<class 'numpy.ndarray'>\n",
      "[1 2 3] int32\n",
      "['1' '2' 'hey'] <U11\n"
     ]
    }
   ],
   "source": [
    "list1 = [1,2,3]\n",
    "print(type(list1))\n",
    "array1 = np.array(list1)\n",
    "print(type(array1))\n",
    "print(array1, array1.dtype)\n",
    "\n",
    "#데이터 타입 변환 예제\n",
    "list2 = [1,2,'hey']\n",
    "array2 = np.array(list2)\n",
    "print(array2, array2.dtype)"
   ]
  },
  {
   "cell_type": "markdown",
   "id": "2561e155-d6b5-4158-8d75-3b1b05d2a66d",
   "metadata": {},
   "source": [
    "- astype() 메서드 => ndarray 내 타입 변경 가능"
   ]
  },
  {
   "cell_type": "markdown",
   "id": "979628a6-0d78-4060-9d12-63c45bb59cc7",
   "metadata": {},
   "source": [
    "### 3. ndarray를 편리하게 생성하기 - arange, zeros, ones"
   ]
  },
  {
   "cell_type": "markdown",
   "id": "57cb9c1d-8106-40ca-b183-6f3f734e7bba",
   "metadata": {},
   "source": [
    "#### 1) arange() 함수"
   ]
  },
  {
   "cell_type": "markdown",
   "id": "ceef844a-c20b-461f-b3ec-6b9ede178235",
   "metadata": {},
   "source": [
    "- range()와 유사 기능\n",
    "- 0 ~ n-1 까지의 값을 순차적으로 데이터값으로 변환"
   ]
  },
  {
   "cell_type": "code",
   "execution_count": 7,
   "id": "90fe2f13-6416-432a-90aa-f136e29bfd89",
   "metadata": {},
   "outputs": [
    {
     "name": "stdout",
     "output_type": "stream",
     "text": [
      "[0 1 2 3 4 5 6 7 8 9]\n",
      "int32 (10,)\n"
     ]
    }
   ],
   "source": [
    "s_array = np.arange(10)\n",
    "print(s_array)\n",
    "print(s_array.dtype, s_array.shape)"
   ]
  },
  {
   "cell_type": "markdown",
   "id": "07e74ee3-f25d-4413-9bd2-4f07e76d0379",
   "metadata": {},
   "source": [
    "#### 2) zeros(), ones() 함수"
   ]
  },
  {
   "cell_type": "markdown",
   "id": "f6df8d24-468d-462f-9ce8-256dfae07ba1",
   "metadata": {},
   "source": [
    "- 튜플 형태의 shape 값 입력\n",
    "      => zeros() : 모든 값을 0으로 채운 해당 shape의 ndarray 반환\n",
    "      => ones() : 모든 값을 1로 채운 해당 shape의 ndarray 반환"
   ]
  },
  {
   "cell_type": "code",
   "execution_count": 8,
   "id": "b28f0610-2a80-4b95-ae1b-75777de10780",
   "metadata": {},
   "outputs": [
    {
     "name": "stdout",
     "output_type": "stream",
     "text": [
      "[[0 0]\n",
      " [0 0]\n",
      " [0 0]]\n",
      "int32 (3, 2)\n",
      "[[1. 1.]\n",
      " [1. 1.]\n",
      " [1. 1.]]\n",
      "float64 (3, 2)\n"
     ]
    }
   ],
   "source": [
    "zero_array = np.zeros((3, 2), dtype='int32')\n",
    "print(zero_array)\n",
    "print(zero_array.dtype, zero_array.shape)\n",
    "\n",
    "one_array = np.ones((3, 2))\n",
    "print(one_array)\n",
    "print(one_array.dtype, one_array.shape)"
   ]
  },
  {
   "cell_type": "markdown",
   "id": "02e46c37-e588-4260-94b6-de0472acbc07",
   "metadata": {},
   "source": [
    "### 4. ndarray의 차원과 크기를 변경하는 reshape()"
   ]
  },
  {
   "cell_type": "markdown",
   "id": "2503dbda-5ca1-4943-8af4-ec6d4ff6c154",
   "metadata": {},
   "source": [
    "- ndarray를 특정 차원 / 크기로 변환"
   ]
  },
  {
   "cell_type": "code",
   "execution_count": 10,
   "id": "47a81614-9636-43c3-9fb2-d0c9a2d833cf",
   "metadata": {},
   "outputs": [
    {
     "name": "stdout",
     "output_type": "stream",
     "text": [
      "array1:\n",
      " [0 1 2 3 4 5 6 7 8 9]\n",
      "array2:\n",
      " [[0 1 2 3 4]\n",
      " [5 6 7 8 9]]\n"
     ]
    }
   ],
   "source": [
    "array1 = np.arange(10)\n",
    "print('array1:\\n', array1)\n",
    "\n",
    "array2 = array1.reshape(2, 5)\n",
    "print('array2:\\n', array2)"
   ]
  },
  {
   "cell_type": "markdown",
   "id": "fa1d85ae-51c3-4c59-a94a-b06e1d1f9f89",
   "metadata": {},
   "source": [
    "- 지정된 사이즈로 변경 불가 시 오류 발생"
   ]
  },
  {
   "cell_type": "code",
   "execution_count": 12,
   "id": "c2517d39-df6f-4ff7-80af-ac3d588ca7f2",
   "metadata": {},
   "outputs": [
    {
     "ename": "NameError",
     "evalue": "name 'array3d' is not defined",
     "output_type": "error",
     "traceback": [
      "\u001b[1;31m---------------------------------------------------------------------------\u001b[0m",
      "\u001b[1;31mNameError\u001b[0m                                 Traceback (most recent call last)",
      "Cell \u001b[1;32mIn[12], line 2\u001b[0m\n\u001b[0;32m      1\u001b[0m \u001b[38;5;66;03m#오류 발생\u001b[39;00m\n\u001b[1;32m----> 2\u001b[0m array5 \u001b[38;5;241m=\u001b[39m \u001b[43marray3d\u001b[49m\u001b[38;5;241m.\u001b[39mreshape(\u001b[38;5;241m-\u001b[39m\u001b[38;5;241m1\u001b[39m, \u001b[38;5;241m1\u001b[39m)\n\u001b[0;32m      3\u001b[0m \u001b[38;5;28mprint\u001b[39m(\u001b[38;5;124m'\u001b[39m\u001b[38;5;124marray5:\u001b[39m\u001b[38;5;130;01m\\n\u001b[39;00m\u001b[38;5;124m'\u001b[39m, array5\u001b[38;5;241m.\u001b[39mtolist())\n\u001b[0;32m      4\u001b[0m \u001b[38;5;28mprint\u001b[39m(\u001b[38;5;124m'\u001b[39m\u001b[38;5;124marray5 shape:\u001b[39m\u001b[38;5;124m'\u001b[39m, array5\u001b[38;5;241m.\u001b[39mshape)\n",
      "\u001b[1;31mNameError\u001b[0m: name 'array3d' is not defined"
     ]
    }
   ],
   "source": [
    "#오류 발생\n",
    "array5 = array3d.reshape(-1, 1)\n",
    "print('array5:\\n', array5.tolist())\n",
    "print('array5 shape:', array5.shape)"
   ]
  },
  {
   "cell_type": "markdown",
   "id": "62517dec-0e60-446f-97d2-f35bea78c53c",
   "metadata": {},
   "source": [
    "- 인자로 -1 적용 시 원 ndarray와 호환되는 새로운 shape로 변환해줌\n",
    "- 그래도 불가능한 형태로는 변환 불가"
   ]
  },
  {
   "cell_type": "code",
   "execution_count": 13,
   "id": "f39755cd-5c92-4201-ab3f-dce499e57780",
   "metadata": {},
   "outputs": [
    {
     "name": "stdout",
     "output_type": "stream",
     "text": [
      "array3d:\n",
      " [[[0, 1], [2, 3]], [[4, 5], [6, 7]]]\n",
      "array5:\n",
      " [[0], [1], [2], [3], [4], [5], [6], [7]]\n",
      "array5 shape: (8, 1)\n",
      "array6:\n",
      " [[0], [1], [2], [3], [4], [5], [6], [7]]\n",
      "array6 shape: (8, 1)\n"
     ]
    }
   ],
   "source": [
    "array1 = np.arange(8)\n",
    "array3d = array1.reshape((2, 2, 2))\n",
    "print('array3d:\\n', array3d.tolist())\n",
    "\n",
    "array5 = array3d.reshape(-1, 1)\n",
    "print('array5:\\n', array5.tolist())\n",
    "print('array5 shape:', array5.shape)\n",
    "\n",
    "array6 = array1.reshape(-1, 1)\n",
    "print('array6:\\n', array6.tolist())\n",
    "print('array6 shape:', array6.shape)"
   ]
  },
  {
   "cell_type": "markdown",
   "id": "a3bb4bbc-1bd3-4a86-a70b-f761d8b40828",
   "metadata": {},
   "source": [
    "### 5. 넘파이의 ndarray의 데이터셋 선택하기 - 인덱싱(Indexing)"
   ]
  },
  {
   "cell_type": "markdown",
   "id": "e68254c1-8319-4935-b090-a19627146680",
   "metadata": {},
   "source": [
    "1. 특정 데이터만 추출\n",
    "2. Slicing : 연속된 인덱스 상의 ndarray를 추출하는 방식\n",
    "3. Fancy Indexing : 일정한 인덱싱 집합을 list or ndarray 형태로 지정, 반환\n",
    "4. Boolean Indexing : 특정 조건의 True에 해당하는 인덱스 위치의 데이터 반환"
   ]
  },
  {
   "cell_type": "markdown",
   "id": "e3566dab-0cd9-4dd5-b92a-3c2faeea128a",
   "metadata": {},
   "source": [
    "#### 1) 단일 값 추출"
   ]
  },
  {
   "cell_type": "code",
   "execution_count": 15,
   "id": "3eeec437-8b54-49cc-bf78-46a2230a9882",
   "metadata": {},
   "outputs": [
    {
     "name": "stdout",
     "output_type": "stream",
     "text": [
      "a1: [1 2 3 4 5 6 7 8 9]\n",
      "value: 3\n",
      "<class 'numpy.int32'>\n"
     ]
    }
   ],
   "source": [
    "# 1차원 배열\n",
    "a1 = np.arange(start=1, stop=10)\n",
    "print('a1:', a1)\n",
    "\n",
    "value = a1[2]\n",
    "print('value:', value)\n",
    "print(type(value))\n",
    "\n",
    "#2차원 배열도 동일 [x, y] 형식으로 접근"
   ]
  },
  {
   "cell_type": "markdown",
   "id": "c5eea1ab-c294-4756-bd0a-9576dae3cb36",
   "metadata": {},
   "source": [
    "#### 2) Slicing"
   ]
  },
  {
   "cell_type": "markdown",
   "id": "aca8a34b-5864-4c40-a516-c8a90d45f958",
   "metadata": {},
   "source": [
    "- 연속된 인덱스 상의 ndarray를 추출하는 방식\n",
    "- 기호 ':' 사용"
   ]
  },
  {
   "cell_type": "code",
   "execution_count": 19,
   "id": "235881ee-c8b4-4a0d-a432-55562139361b",
   "metadata": {},
   "outputs": [
    {
     "name": "stdout",
     "output_type": "stream",
     "text": [
      "[1 2 3]\n",
      "<class 'numpy.ndarray'>\n",
      "[1 2 3]\n",
      "[4 5 6 7 8 9]\n",
      "[1 2 3 4 5 6 7 8 9]\n"
     ]
    }
   ],
   "source": [
    "#1차원 배열\n",
    "a1 = np.arange(start=1, stop=10)\n",
    "a3 = a1[0:3]\n",
    "print(a3)\n",
    "print(type(a3))\n",
    "\n",
    "print(a1[:3])\n",
    "print(a1[3:])\n",
    "print(a1[:])\n",
    "\n",
    "#2차원 배열에서도 동일 방식 사용"
   ]
  },
  {
   "cell_type": "markdown",
   "id": "2983282a-8d91-4cf4-a399-659a198f8d14",
   "metadata": {},
   "source": [
    "#### 3) Fancy Indexing"
   ]
  },
  {
   "cell_type": "markdown",
   "id": "ad9c5f49-18f4-4763-bd3f-5b74b745968f",
   "metadata": {},
   "source": [
    "- 일정한 인덱싱 집합을 list or ndarray 형태로 지정, 반환\n",
    "- 직사각형 모양의 칸을 잡을 때 유리한 듯!"
   ]
  },
  {
   "cell_type": "code",
   "execution_count": 20,
   "id": "98198c34-a09b-41b9-8ba6-e19128974a1b",
   "metadata": {},
   "outputs": [
    {
     "name": "stdout",
     "output_type": "stream",
     "text": [
      "array2d[[0, 1], 2] => [3, 6]\n",
      "array2d[[0, 1], 0:2] => [[1, 2], [4, 5]]\n",
      "array2d[[0, 1]] => [[1, 2, 3], [4, 5, 6]]\n"
     ]
    }
   ],
   "source": [
    "array1d = np.arange(start=1, stop=10)\n",
    "array2d = array1d.reshape(3, 3)\n",
    "\n",
    "array3 = array2d[[0, 1], 2]\n",
    "print('array2d[[0, 1], 2] =>', array3.tolist())\n",
    "\n",
    "array4 = array2d[[0, 1], 0:2]\n",
    "print('array2d[[0, 1], 0:2] =>', array4.tolist())\n",
    "\n",
    "array5 = array2d[[0, 1]]\n",
    "print('array2d[[0, 1]] =>', array5.tolist())"
   ]
  },
  {
   "cell_type": "markdown",
   "id": "a60562f9-6425-4f87-8f08-cf847e610e3b",
   "metadata": {},
   "source": [
    "#### 4) Boolean Indexing"
   ]
  },
  {
   "cell_type": "markdown",
   "id": "ca9d17c2-7476-4fcf-a48f-ab6d25895018",
   "metadata": {},
   "source": [
    "- 특정 조건의 True에 해당하는 인덱스 위치의 데이터 반환"
   ]
  },
  {
   "cell_type": "code",
   "execution_count": 21,
   "id": "0660aff7-f9da-4ced-86cf-f769d7dcec3e",
   "metadata": {},
   "outputs": [
    {
     "name": "stdout",
     "output_type": "stream",
     "text": [
      "array1d > 5 불린 인덱싱 결과값: [6 7 8 9]\n"
     ]
    }
   ],
   "source": [
    "array1d = np.arange(start=1, stop=10)\n",
    "# [ ] 안에 array1d > 5 Boolean indexing을 적용\n",
    "array3 = array1d[array1d > 5]\n",
    "print('array1d > 5 불린 인덱싱 결과값:', array3)"
   ]
  },
  {
   "cell_type": "markdown",
   "id": "c0c0e37a-6f12-4651-9693-f2f0d6c8cce3",
   "metadata": {},
   "source": [
    "### 6. 행렬의 정렬 - sort()와 argsort()"
   ]
  },
  {
   "cell_type": "markdown",
   "id": "e8f0b96f-f07f-47da-a972-98b199b94ec7",
   "metadata": {},
   "source": [
    "#### 1) sort()"
   ]
  },
  {
   "cell_type": "markdown",
   "id": "afc586d8-5ac0-43b4-9968-ce7924ba64b7",
   "metadata": {},
   "source": [
    "- np.sort() 방식 : 원행렬 유지, 정렬값만 도출\n",
    "- ndarray.sort() 방식 : 원행렬을 정렬한 상태로 변경"
   ]
  },
  {
   "cell_type": "markdown",
   "id": "14c0f2cf-c45e-435f-9076-97d668f27134",
   "metadata": {},
   "source": [
    "#### 2) argsort()"
   ]
  },
  {
   "cell_type": "markdown",
   "id": "f6297bb3-7765-4f62-b169-8d32dbfe69b5",
   "metadata": {},
   "source": [
    "- 원본 행렬 정렬 시 정렬 전 인덱스 순서를 정렬 후 순서대로 반환"
   ]
  },
  {
   "cell_type": "markdown",
   "id": "64ce6411-bffd-4b89-a512-88535e48ce3b",
   "metadata": {},
   "source": [
    "### 7. 선형대수 연산 - 행렬 내적과 전치 행렬 구하기"
   ]
  },
  {
   "cell_type": "markdown",
   "id": "68f93d46-ae7c-4db2-8e5e-a3c5c03c1bdd",
   "metadata": {},
   "source": [
    "#### 1) 행렬 내적 (행렬 곱)"
   ]
  },
  {
   "cell_type": "code",
   "execution_count": 24,
   "id": "d8f5702d-c136-4046-8393-aa7a5220206a",
   "metadata": {},
   "outputs": [
    {
     "name": "stdout",
     "output_type": "stream",
     "text": [
      "[[ 58  64]\n",
      " [139 154]]\n"
     ]
    }
   ],
   "source": [
    "A = np.array([[1,2,3],\n",
    "              [4,5,6]])\n",
    "B = np.array([[7,8],\n",
    "              [9,10],\n",
    "              [11,12]])\n",
    "\n",
    "#내적 결과값 = dot_p\n",
    "dot_p = np.dot(A,B)\n",
    "print(dot_p)"
   ]
  },
  {
   "cell_type": "markdown",
   "id": "95bba998-0ad8-4661-a476-04f6b281f315",
   "metadata": {},
   "source": [
    "#### 2) 전치 행렬"
   ]
  },
  {
   "cell_type": "code",
   "execution_count": 25,
   "id": "90615dff-f05f-471a-bf20-9f80ff0dd815",
   "metadata": {},
   "outputs": [
    {
     "name": "stdout",
     "output_type": "stream",
     "text": [
      "[[1 3]\n",
      " [2 4]]\n"
     ]
    }
   ],
   "source": [
    "A = np.array([[1,2],\n",
    "              [3,4]])\n",
    "\n",
    "#전치행렬 t_mat\n",
    "t_mat = np.transpose(A)\n",
    "print(t_mat)"
   ]
  }
 ],
 "metadata": {
  "kernelspec": {
   "display_name": "Python 3 (ipykernel)",
   "language": "python",
   "name": "python3"
  },
  "language_info": {
   "codemirror_mode": {
    "name": "ipython",
    "version": 3
   },
   "file_extension": ".py",
   "mimetype": "text/x-python",
   "name": "python",
   "nbconvert_exporter": "python",
   "pygments_lexer": "ipython3",
   "version": "3.11.4"
  }
 },
 "nbformat": 4,
 "nbformat_minor": 5
}
